{
 "cells": [
  {
   "cell_type": "markdown",
   "metadata": {},
   "source": [
    "## Random Python Data Science Practice #14"
   ]
  },
  {
   "cell_type": "markdown",
   "metadata": {},
   "source": [
    "## Get The Type"
   ]
  },
  {
   "cell_type": "code",
   "execution_count": 2,
   "metadata": {},
   "outputs": [
    {
     "name": "stdout",
     "output_type": "stream",
     "text": [
      "['Burger', 'Pizza']\n",
      "('Burger', 'Pizza')\n",
      "{'Pizza', 'Burger'}\n",
      "{'Burger': 'America', 'Pizza': 'Italia'}\n"
     ]
    }
   ],
   "source": [
    "# Several Membership Operators\n",
    "food_list = ['Burger', 'Pizza'] # --> List\n",
    "food_tuple = ('Burger', 'Pizza') # --> Tuple\n",
    "food_set = {'Burger', 'Pizza'} # --> Set\n",
    "food_dict = {'Burger' : 'America', 'Pizza' : 'Italia'} # --> Dictionary\n",
    "print(food_list)\n",
    "print(food_tuple)\n",
    "print(food_set)\n",
    "print(food_dict)"
   ]
  },
  {
   "cell_type": "markdown",
   "metadata": {},
   "source": [
    "## type()"
   ]
  },
  {
   "cell_type": "code",
   "execution_count": 5,
   "metadata": {},
   "outputs": [
    {
     "name": "stdout",
     "output_type": "stream",
     "text": [
      "<class 'list'>\n",
      "<class 'tuple'>\n",
      "<class 'set'>\n",
      "<class 'dict'>\n"
     ]
    }
   ],
   "source": [
    "print(type(food_list))\n",
    "print(type(food_tuple))\n",
    "print(type(food_set))\n",
    "print(type(food_dict))"
   ]
  },
  {
   "cell_type": "markdown",
   "metadata": {},
   "source": [
    "## other variable"
   ]
  },
  {
   "cell_type": "code",
   "execution_count": 6,
   "metadata": {},
   "outputs": [
    {
     "name": "stdout",
     "output_type": "stream",
     "text": [
      "<class 'str'>\n",
      "<class 'int'>\n",
      "<class 'float'>\n",
      "<class 'bool'>\n"
     ]
    }
   ],
   "source": [
    "# other variable\n",
    "colour = 'Blue'\n",
    "year = 2021\n",
    "GPA = 3.85\n",
    "yes = True\n",
    "print(type(colour))\n",
    "print(type(year))\n",
    "print(type(GPA))\n",
    "print(type(yes))"
   ]
  }
 ],
 "metadata": {
  "kernelspec": {
   "display_name": "Python 3",
   "language": "python",
   "name": "python3"
  },
  "language_info": {
   "codemirror_mode": {
    "name": "ipython",
    "version": 3
   },
   "file_extension": ".py",
   "mimetype": "text/x-python",
   "name": "python",
   "nbconvert_exporter": "python",
   "pygments_lexer": "ipython3",
   "version": "3.8.5"
  }
 },
 "nbformat": 4,
 "nbformat_minor": 4
}
